{
 "cells": [
  {
   "cell_type": "code",
   "execution_count": null,
   "id": "538ddc47",
   "metadata": {},
   "outputs": [],
   "source": [
    "   # Exercise 5\n",
    "\n",
    "\n",
    "1. Download the mushroom dataset here: https://archive.ics.uci.edu/ml/datasets/Mushroom\n",
    "2. Create a new Jupyter notebook\n",
    "3. Load the dataset from CSV into pandas\n",
    "4. Explore the distributions in the data. For example, how is habitat distributed between edibility vs non-edibility?\n",
    "5. The data is entirely categorical. Convert each feature to dummy variables. (should be one funciton or something)\n",
    "6. Visualise the feature space using a similar method to the one we used for the 20 newgroups dataset.\n",
    "\n",
    "Your submission should be your Jupyter notebook, keep it short and concise.\n",
    "\n",
    "check out pandas chart visualization "
   ]
  }
 ],
 "metadata": {
  "kernelspec": {
   "display_name": "Python 3 (ipykernel)",
   "language": "python",
   "name": "python3"
  },
  "language_info": {
   "codemirror_mode": {
    "name": "ipython",
    "version": 3
   },
   "file_extension": ".py",
   "mimetype": "text/x-python",
   "name": "python",
   "nbconvert_exporter": "python",
   "pygments_lexer": "ipython3",
   "version": "3.9.6"
  }
 },
 "nbformat": 4,
 "nbformat_minor": 5
}
